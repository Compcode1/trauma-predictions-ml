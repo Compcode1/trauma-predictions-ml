{
 "cells": [
  {
   "cell_type": "code",
   "execution_count": 27,
   "metadata": {},
   "outputs": [
    {
     "name": "stdout",
     "output_type": "stream",
     "text": [
      "   Gender  Age Age Group   BMI  Obesity  Smoking  High Alcohol  Heart Disease  \\\n",
      "0    Male   27     18-44  22.7        0        0             0              0   \n",
      "1  Female   54     45-64  28.5        0        0             0              0   \n",
      "2    Male   21     18-44  21.3        0        0             1              0   \n",
      "3  Female   62     45-64  28.6        0        0             0              0   \n",
      "4    Male   61     45-64  21.4        0        0             1              0   \n",
      "\n",
      "   Cancer  COPD  Alzheimers  Diabetes  CKD  High Blood Pressure  Stroke  \\\n",
      "0       0     0           0         0    0                    0       0   \n",
      "1       0     0           0         1    0                    0       0   \n",
      "2       0     0           0         0    0                    0       0   \n",
      "3       0     0           0         0    0                    0       0   \n",
      "4       0     0           0         0    0                    0       0   \n",
      "\n",
      "   Liver Dx  Strength Exam Age  Exam Score  \n",
      "0         1         0    18-29        81.0  \n",
      "1         0         0    50-59        72.0  \n",
      "2         0         1    18-29       110.0  \n",
      "3         0         0    60-69        77.0  \n",
      "4         0         0    60-69        77.0  \n"
     ]
    }
   ],
   "source": [
    "import pandas as pd\n",
    "\n",
    "# Path to the medrecords.csv file on your Desktop\n",
    "file_path = '/Users/steventuschman/Desktop/medrecords.csv'\n",
    "\n",
    "# Load the CSV file into a DataFrame\n",
    "medrecords_df = pd.read_csv(file_path)\n",
    "\n",
    "# Display the first few rows to verify it loaded correctly\n",
    "print(medrecords_df.head())\n"
   ]
  },
  {
   "cell_type": "code",
   "execution_count": 28,
   "metadata": {},
   "outputs": [
    {
     "name": "stdout",
     "output_type": "stream",
     "text": [
      "   Gender  Age Age Group   BMI  Obesity  Smoking  High Alcohol  Heart Disease  \\\n",
      "0    Male   27     18-44  22.7        0        0             0              0   \n",
      "1  Female   54     45-64  28.5        0        0             0              0   \n",
      "2    Male   21     18-44  21.3        0        0             1              0   \n",
      "3  Female   62     45-64  28.6        0        0             0              0   \n",
      "4    Male   61     45-64  21.4        0        0             1              0   \n",
      "\n",
      "   Cancer  COPD  Alzheimers  Diabetes  CKD  High Blood Pressure  Stroke  \\\n",
      "0       0     0           0         0    0                    0       0   \n",
      "1       0     0           0         1    0                    0       0   \n",
      "2       0     0           0         0    0                    0       0   \n",
      "3       0     0           0         0    0                    0       0   \n",
      "4       0     0           0         0    0                    0       0   \n",
      "\n",
      "   Liver Dx  Strength Exam Age  Exam Score  Trauma  \n",
      "0         1         0    18-29        81.0       0  \n",
      "1         0         0    50-59        72.0       1  \n",
      "2         0         1    18-29       110.0       0  \n",
      "3         0         0    60-69        77.0       0  \n",
      "4         0         0    60-69        77.0       1  \n",
      "Total Trauma positive cases: 122404 (48.96% of total rows)\n"
     ]
    }
   ],
   "source": [
    "import numpy as np\n",
    "\n",
    "# Step 1: Initialize the 'Trauma' column with zeros (no trauma initially)\n",
    "medrecords_df['Trauma'] = 0\n",
    "\n",
    "# Step 2: Randomly assign 33% of rows with Age 65 and over\n",
    "age_65_and_over = medrecords_df['Age'] >= 65\n",
    "age_65_and_over_trauma = np.random.rand(len(medrecords_df)) < 0.33\n",
    "medrecords_df.loc[age_65_and_over & age_65_and_over_trauma, 'Trauma'] = 1\n",
    "\n",
    "# Step 3: Randomly assign 65% of rows with Alzheimers\n",
    "alzheimers = medrecords_df['Alzheimers'] == 1\n",
    "alzheimers_trauma = np.random.rand(len(medrecords_df)) < 0.65\n",
    "medrecords_df.loc[alzheimers & alzheimers_trauma, 'Trauma'] = 1\n",
    "\n",
    "# Step 4: Randomly assign 20% of rows with High Alcohol\n",
    "high_alcohol = medrecords_df['High Alcohol'] == 1\n",
    "high_alcohol_trauma = np.random.rand(len(medrecords_df)) < 0.20\n",
    "medrecords_df.loc[high_alcohol & high_alcohol_trauma, 'Trauma'] = 1\n",
    "\n",
    "# Step 5: Randomly assign 30% of rows with Heart Disease\n",
    "heart_disease = medrecords_df['Heart Disease'] == 1\n",
    "heart_disease_trauma = np.random.rand(len(medrecords_df)) < 0.30\n",
    "medrecords_df.loc[heart_disease & heart_disease_trauma, 'Trauma'] = 1\n",
    "\n",
    "# Step 6: Randomly assign 50% of rows with Stroke\n",
    "stroke = medrecords_df['Stroke'] == 1\n",
    "stroke_trauma = np.random.rand(len(medrecords_df)) < 0.50\n",
    "medrecords_df.loc[stroke & stroke_trauma, 'Trauma'] = 1\n",
    "\n",
    "# Step 7: Randomly assign 50% of rows with Exam Score below 40\n",
    "low_exam_score = medrecords_df['Exam Score'] < 40\n",
    "low_exam_score_trauma = np.random.rand(len(medrecords_df)) < 0.50\n",
    "medrecords_df.loc[low_exam_score & low_exam_score_trauma, 'Trauma'] = 1\n",
    "\n",
    "# Step 8: Randomly assign Trauma to 35% of rows without criteria\n",
    "random_trauma = np.random.rand(len(medrecords_df)) < 0.35\n",
    "medrecords_df.loc[random_trauma, 'Trauma'] = 1\n",
    "\n",
    "# Step 9: View the first 5 rows of the updated DataFrame\n",
    "print(medrecords_df.head())\n",
    "\n",
    "# Step 10: Calculate total Trauma positive cases and percentages\n",
    "total_rows = len(medrecords_df)\n",
    "total_trauma_cases = medrecords_df['Trauma'].sum()\n",
    "trauma_percentage = (total_trauma_cases / total_rows) * 100\n",
    "\n",
    "print(f\"Total Trauma positive cases: {total_trauma_cases} ({trauma_percentage:.2f}% of total rows)\")\n"
   ]
  },
  {
   "cell_type": "code",
   "execution_count": 29,
   "metadata": {},
   "outputs": [
    {
     "name": "stdout",
     "output_type": "stream",
     "text": [
      "   Gender  Age Age Group   BMI  Obesity  Smoking  High Alcohol  Heart Disease  \\\n",
      "0    Male   27     18-44  22.7        0        0             0              0   \n",
      "1  Female   54     45-64  28.5        0        0             0              0   \n",
      "2    Male   21     18-44  21.3        0        0             1              0   \n",
      "3  Female   62     45-64  28.6        0        0             0              0   \n",
      "4    Male   61     45-64  21.4        0        0             1              0   \n",
      "\n",
      "   Cancer  COPD  Alzheimers  Diabetes  CKD  High Blood Pressure  Stroke  \\\n",
      "0       0     0           0         0    0                    0       0   \n",
      "1       0     0           0         1    0                    0       0   \n",
      "2       0     0           0         0    0                    0       0   \n",
      "3       0     0           0         0    0                    0       0   \n",
      "4       0     0           0         0    0                    0       0   \n",
      "\n",
      "   Liver Dx  Strength Exam Age  Exam Score  Trauma  \n",
      "0         1         0    18-29        81.0       0  \n",
      "1         0         0    50-59        72.0       1  \n",
      "2         0         1    18-29       110.0       0  \n",
      "3         0         0    60-69        77.0       0  \n",
      "4         0         0    60-69        77.0       1  \n",
      "Total Trauma positive cases: 122404 (48.96% of total rows)\n",
      "\n",
      "Trauma count and percentage by Age Group:\n",
      "Age Group 18-44: 47973 trauma cases (41.80%) out of 114764 rows\n",
      "Age Group 45-64: 35353 trauma cases (44.55%) out of 79349 rows\n",
      "Age Group 65+: 39078 trauma cases (69.92%) out of 55887 rows\n"
     ]
    }
   ],
   "source": [
    "# Step 9: View the first 5 rows of the updated DataFrame\n",
    "print(medrecords_df.head())\n",
    "\n",
    "# Step 10: Calculate total Trauma positive cases and percentages\n",
    "total_rows = len(medrecords_df)\n",
    "total_trauma_cases = medrecords_df['Trauma'].sum()\n",
    "trauma_percentage = (total_trauma_cases / total_rows) * 100\n",
    "\n",
    "print(f\"Total Trauma positive cases: {total_trauma_cases} ({trauma_percentage:.2f}% of total rows)\")\n",
    "\n",
    "# Step 11: Total count and percentage for each group (Age Group)\n",
    "age_group_totals = medrecords_df.groupby('Age Group')['Trauma'].sum()\n",
    "age_group_counts = medrecords_df['Age Group'].value_counts()\n",
    "\n",
    "print(\"\\nTrauma count and percentage by Age Group:\")\n",
    "for age_group, trauma_count in age_group_totals.items():\n",
    "    total_in_age_group = age_group_counts[age_group]\n",
    "    percentage_in_age_group = (trauma_count / total_in_age_group) * 100\n",
    "    print(f\"Age Group {age_group}: {trauma_count} trauma cases ({percentage_in_age_group:.2f}%) out of {total_in_age_group} rows\")\n"
   ]
  },
  {
   "cell_type": "code",
   "execution_count": 30,
   "metadata": {},
   "outputs": [
    {
     "name": "stdout",
     "output_type": "stream",
     "text": [
      "Updated DataFrame saved to /Users/steventuschman/Desktop/updated_medrecords.csv\n"
     ]
    }
   ],
   "source": [
    "# Step 12: Save the updated DataFrame to a new CSV file\n",
    "output_file_path = '/Users/steventuschman/Desktop/updated_medrecords.csv'  # Specify your desired file path\n",
    "medrecords_df.to_csv(output_file_path, index=False)  # Save DataFrame without the index column\n",
    "\n",
    "print(f\"Updated DataFrame saved to {output_file_path}\")\n"
   ]
  },
  {
   "cell_type": "markdown",
   "metadata": {},
   "source": []
  }
 ],
 "metadata": {
  "kernelspec": {
   "display_name": "Python 3",
   "language": "python",
   "name": "python3"
  },
  "language_info": {
   "codemirror_mode": {
    "name": "ipython",
    "version": 3
   },
   "file_extension": ".py",
   "mimetype": "text/x-python",
   "name": "python",
   "nbconvert_exporter": "python",
   "pygments_lexer": "ipython3",
   "version": "3.12.3"
  }
 },
 "nbformat": 4,
 "nbformat_minor": 2
}
